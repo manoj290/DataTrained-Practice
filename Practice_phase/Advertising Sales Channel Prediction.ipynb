{
 "cells": [
  {
   "cell_type": "markdown",
   "metadata": {},
   "source": [
    "## Problem Statement:\n",
    " ### Sales Channel Prediction Case Study  \n",
    "\n",
    "When a company enters a market, the distribution strategy and channel it uses are keys to its success in the market, as well as market know-how and customer knowledge and understanding. Because an effective distribution strategy under efficient supply-chain management opens doors for attaining competitive advantage and strong brand equity in the market, it is a component of the marketing mix that cannot be ignored . \n",
    "\n",
    "The distribution strategy and the channel design have to be right the first time. The case study of Sales channel includes the detailed study of TV, radio and newspaper channel. The predict the total sales generated from all the sales channel.  "
   ]
  },
  {
   "cell_type": "markdown",
   "metadata": {},
   "source": [
    "###### importing libraries"
   ]
  },
  {
   "cell_type": "code",
   "execution_count": 37,
   "metadata": {},
   "outputs": [],
   "source": [
    "import pandas as pd\n",
    "import numpy as np\n",
    "\n",
    "\n",
    "import matplotlib.pyplot as plt\n",
    "import seaborn as sns\n",
    "\n",
    "from sklearn.model_selection import train_test_split,GridSearchCV,cross_val_score\n",
    "from sklearn.metrics import r2_score,mean_absolute_error,mean_squared_error\n",
    "from sklearn.preprocessing import StandardScaler,MinMaxScaler\n",
    "\n",
    "from sklearn.linear_model import LinearRegression,Lasso,LassoCV,Ridge,RidgeCV\n",
    "from sklearn.ensemble import RandomForestRegressor\n",
    "from sklearn.ensemble import AdaBoostRegressor\n",
    "from sklearn.ensemble import BaggingRegressor\n",
    "from sklearn.tree import DecisionTreeRegressor\n",
    "from sklearn.neighbors import KNeighborsRegressor"
   ]
  },
  {
   "cell_type": "markdown",
   "metadata": {},
   "source": [
    "Imported dataset from the provided link."
   ]
  },
  {
   "cell_type": "code",
   "execution_count": 38,
   "metadata": {},
   "outputs": [
    {
     "data": {
      "text/html": [
       "<div>\n",
       "<style scoped>\n",
       "    .dataframe tbody tr th:only-of-type {\n",
       "        vertical-align: middle;\n",
       "    }\n",
       "\n",
       "    .dataframe tbody tr th {\n",
       "        vertical-align: top;\n",
       "    }\n",
       "\n",
       "    .dataframe thead th {\n",
       "        text-align: right;\n",
       "    }\n",
       "</style>\n",
       "<table border=\"1\" class=\"dataframe\">\n",
       "  <thead>\n",
       "    <tr style=\"text-align: right;\">\n",
       "      <th></th>\n",
       "      <th>Unnamed: 0</th>\n",
       "      <th>TV</th>\n",
       "      <th>radio</th>\n",
       "      <th>newspaper</th>\n",
       "      <th>sales</th>\n",
       "    </tr>\n",
       "  </thead>\n",
       "  <tbody>\n",
       "    <tr>\n",
       "      <th>99</th>\n",
       "      <td>100</td>\n",
       "      <td>135.2</td>\n",
       "      <td>41.7</td>\n",
       "      <td>45.9</td>\n",
       "      <td>17.2</td>\n",
       "    </tr>\n",
       "    <tr>\n",
       "      <th>82</th>\n",
       "      <td>83</td>\n",
       "      <td>75.3</td>\n",
       "      <td>20.3</td>\n",
       "      <td>32.5</td>\n",
       "      <td>11.3</td>\n",
       "    </tr>\n",
       "    <tr>\n",
       "      <th>102</th>\n",
       "      <td>103</td>\n",
       "      <td>280.2</td>\n",
       "      <td>10.1</td>\n",
       "      <td>21.4</td>\n",
       "      <td>14.8</td>\n",
       "    </tr>\n",
       "    <tr>\n",
       "      <th>165</th>\n",
       "      <td>166</td>\n",
       "      <td>234.5</td>\n",
       "      <td>3.4</td>\n",
       "      <td>84.8</td>\n",
       "      <td>11.9</td>\n",
       "    </tr>\n",
       "    <tr>\n",
       "      <th>96</th>\n",
       "      <td>97</td>\n",
       "      <td>197.6</td>\n",
       "      <td>3.5</td>\n",
       "      <td>5.9</td>\n",
       "      <td>11.7</td>\n",
       "    </tr>\n",
       "  </tbody>\n",
       "</table>\n",
       "</div>"
      ],
      "text/plain": [
       "     Unnamed: 0     TV  radio  newspaper  sales\n",
       "99          100  135.2   41.7       45.9   17.2\n",
       "82           83   75.3   20.3       32.5   11.3\n",
       "102         103  280.2   10.1       21.4   14.8\n",
       "165         166  234.5    3.4       84.8   11.9\n",
       "96           97  197.6    3.5        5.9   11.7"
      ]
     },
     "execution_count": 38,
     "metadata": {},
     "output_type": "execute_result"
    }
   ],
   "source": [
    "data=pd.read_csv(\"https://raw.githubusercontent.com/dsrscientist/DSData/master/Advertising.csv\")\n",
    "data.sample(5)"
   ]
  },
  {
   "cell_type": "markdown",
   "metadata": {},
   "source": [
    "here are random 5 samples of our data."
   ]
  },
  {
   "cell_type": "code",
   "execution_count": 39,
   "metadata": {},
   "outputs": [
    {
     "data": {
      "text/plain": [
       "Unnamed: 0    0\n",
       "TV            0\n",
       "radio         0\n",
       "newspaper     0\n",
       "sales         0\n",
       "dtype: int64"
      ]
     },
     "execution_count": 39,
     "metadata": {},
     "output_type": "execute_result"
    }
   ],
   "source": [
    "data.isnull().sum()"
   ]
  },
  {
   "cell_type": "markdown",
   "metadata": {},
   "source": [
    "here we can see there are no null values."
   ]
  },
  {
   "cell_type": "code",
   "execution_count": 40,
   "metadata": {},
   "outputs": [
    {
     "data": {
      "text/plain": [
       "(200, 5)"
      ]
     },
     "execution_count": 40,
     "metadata": {},
     "output_type": "execute_result"
    }
   ],
   "source": [
    "data.shape"
   ]
  },
  {
   "cell_type": "markdown",
   "metadata": {},
   "source": [
    "Here in our data set there are 200 records with 5 columns."
   ]
  },
  {
   "cell_type": "code",
   "execution_count": 41,
   "metadata": {},
   "outputs": [
    {
     "name": "stdout",
     "output_type": "stream",
     "text": [
      "<class 'pandas.core.frame.DataFrame'>\n",
      "RangeIndex: 200 entries, 0 to 199\n",
      "Data columns (total 5 columns):\n",
      "Unnamed: 0    200 non-null int64\n",
      "TV            200 non-null float64\n",
      "radio         200 non-null float64\n",
      "newspaper     200 non-null float64\n",
      "sales         200 non-null float64\n",
      "dtypes: float64(4), int64(1)\n",
      "memory usage: 7.9 KB\n"
     ]
    }
   ],
   "source": [
    "data.info()"
   ]
  },
  {
   "cell_type": "markdown",
   "metadata": {},
   "source": [
    "in every column there are 200 non-null floaat value except \"Unnamed: 0\" it is of integer  data type that also has 200 records."
   ]
  },
  {
   "cell_type": "code",
   "execution_count": 42,
   "metadata": {},
   "outputs": [
    {
     "data": {
      "text/plain": [
       "['Unnamed: 0', 'TV', 'radio', 'newspaper', 'sales']"
      ]
     },
     "execution_count": 42,
     "metadata": {},
     "output_type": "execute_result"
    }
   ],
   "source": [
    "data.columns.tolist()"
   ]
  },
  {
   "cell_type": "markdown",
   "metadata": {},
   "source": [
    "in our data the column:\n",
    "\n",
    "    Unnamed: 0 :- it is nominal variable that is not needed.\n",
    "    \n",
    "    TV: It is the colmns through which the sales of the production are dependent while it is independent & is our feature.\n",
    "    \n",
    "    radio It is the colmns through which the sales of the production are dependent while it is independent & is our feature.\n",
    "    \n",
    "    newspaper:It is the column through which sales of the production are dependent while it is independent & is our feature \n",
    "    \n",
    "    sales:it is our label i.e. dependent on all features.\n",
    "    \n",
    "   ALL the columns are continous. And our label is continous variable too, hence it a regression problem."
   ]
  },
  {
   "cell_type": "markdown",
   "metadata": {},
   "source": [
    "## EDA"
   ]
  },
  {
   "cell_type": "code",
   "execution_count": 43,
   "metadata": {},
   "outputs": [
    {
     "data": {
      "image/png": "[encoded data removed]",
      "text/plain": [
       "<Figure size 1152x576 with 3 Axes>"
      ]
     },
     "metadata": {
      "needs_background": "light"
     },
     "output_type": "display_data"
    }
   ],
   "source": [
    "fig,axs=plt.subplots(1,3)\n",
    "data.plot(kind='scatter',x='TV',y='sales',ax=axs[0],figsize=(16,8))\n",
    "data.plot(kind='scatter',x='radio',y='sales',ax=axs[1])\n",
    "data.plot.scatter(x='newspaper',y='sales',ax=axs[2])\n",
    "plt.show()"
   ]
  },
  {
   "cell_type": "markdown",
   "metadata": {},
   "source": [
    "From the above graph:\n",
    "\n",
    "    Sales v/s TV: Here we can see that there is some linear relation between them as they are linearly dependent.\n",
    "    \n",
    "    Sales v/ radio: here we analyse that there is some linear relation and seems to be like consists outliers too that we                  further analyse by using boxplot.\n",
    "    \n",
    "    Sales v/s newspaper: Here we see there not such linear relation between them. but we have to do further analysis to make sure.\n",
    "    "
   ]
  },
  {
   "cell_type": "code",
   "execution_count": 44,
   "metadata": {},
   "outputs": [
    {
     "data": {
      "image/png": "[encoded data removed]",
      "text/plain": [
       "<Figure size 2160x6480 with 5 Axes>"
      ]
     },
     "metadata": {
      "needs_background": "light"
     },
     "output_type": "display_data"
    }
   ],
   "source": [
    "collist=data.columns.values\n",
    "ncol=30\n",
    "nrow=14\n",
    "plt.figure(figsize=(ncol,3*ncol))\n",
    "for i in range(0,len(collist)):\n",
    "    plt.subplot(nrow,ncol,i+1)\n",
    "    sns.boxplot(data[collist[i]],orient='v',color='green')\n",
    "    plt.tight_layout()"
   ]
  },
  {
   "cell_type": "markdown",
   "metadata": {},
   "source": [
    "Here we come to know that in newsaper there are some outliers. while in all other columns there is no outliers."
   ]
  },
  {
   "cell_type": "code",
   "execution_count": 45,
   "metadata": {},
   "outputs": [
    {
     "data": {
      "image/png": "[encoded data removed]",
      "text/plain": [
       "<Figure size 1440x1440 with 4 Axes>"
      ]
     },
     "metadata": {
      "needs_background": "light"
     },
     "output_type": "display_data"
    }
   ],
   "source": [
    "plt.figure(figsize=(20,20))\n",
    "graph=1\n",
    "for col in data.iloc[:,:-1]:\n",
    "    if graph<5:\n",
    "    \n",
    "        plt.subplot(2,3,graph)\n",
    "        sns.distplot(data[col],color='green')\n",
    "    graph+=1\n",
    "plt.tight_layout()"
   ]
  },
  {
   "cell_type": "markdown",
   "metadata": {},
   "source": [
    "Its seems like the newspaper column is skewed. It is not symmetric while all other seems to be symmetric."
   ]
  },
  {
   "cell_type": "code",
   "execution_count": 46,
   "metadata": {},
   "outputs": [
    {
     "data": {
      "text/plain": [
       "Unnamed: 0    0.000000\n",
       "TV           -0.069853\n",
       "radio         0.094175\n",
       "newspaper     0.894720\n",
       "sales         0.407571\n",
       "dtype: float64"
      ]
     },
     "execution_count": 46,
     "metadata": {},
     "output_type": "execute_result"
    }
   ],
   "source": [
    "data.skew()"
   ]
  },
  {
   "cell_type": "markdown",
   "metadata": {},
   "source": [
    "from above information we can conclude that the newspaper is skewed as it is not in range -0.5 to 0.5"
   ]
  },
  {
   "cell_type": "code",
   "execution_count": 47,
   "metadata": {},
   "outputs": [
    {
     "data": {
      "text/plain": [
       "<matplotlib.axes._subplots.AxesSubplot at 0x17e00e8d710>"
      ]
     },
     "execution_count": 47,
     "metadata": {},
     "output_type": "execute_result"
    },
    {
     "data": {
      "image/png": "[encoded data removed]",
      "text/plain": [
       "<Figure size 432x288 with 1 Axes>"
      ]
     },
     "metadata": {
      "needs_background": "light"
     },
     "output_type": "display_data"
    }
   ],
   "source": [
    "data[['Unnamed: 0','TV','radio','newspaper']].corrwith(data['sales']).plot(kind='bar',color='red')"
   ]
  },
  {
   "cell_type": "markdown",
   "metadata": {},
   "source": [
    "Here we can see the relation the features with the target. we analyse that the \"sales\" is highly dependent on the feature i.e.\"TV\" then \"radio\" then \"newspaper\" & then the \"Unnamed: 0\"."
   ]
  },
  {
   "cell_type": "code",
   "execution_count": 48,
   "metadata": {},
   "outputs": [
    {
     "data": {
      "image/png": "[encoded data removed]",
      "text/plain": [
       "<Figure size 360x360 with 2 Axes>"
      ]
     },
     "metadata": {
      "needs_background": "light"
     },
     "output_type": "display_data"
    }
   ],
   "source": [
    "plt.figure(figsize=(5,5))\n",
    "sns.heatmap(data.corr().abs(),annot=True,annot_kws={\"size\":15},linewidths=True)\n",
    "plt.show()"
   ]
  },
  {
   "cell_type": "markdown",
   "metadata": {},
   "source": [
    "Here we can see there is no multi-colinearity. And the TV gives 78%, radio gives 58%, newspaper gives 23% contribution to predict the sales.\n",
    "As the the Unnamed:0 column is nominal that we can drop and also contribute 5%."
   ]
  },
  {
   "cell_type": "markdown",
   "metadata": {},
   "source": [
    "## Hypothesis testing & p_value\n",
    "\n",
    "Ho: No relationship exists between TV & sales, radio & sales, newspaper & sales. \n",
    "\n",
    "H1: reltionship exists between tv & sales, radio & sales, newspaper & sales. "
   ]
  },
  {
   "cell_type": "code",
   "execution_count": 49,
   "metadata": {},
   "outputs": [],
   "source": [
    "import statsmodels.formula.api as smf\n",
    "lm=smf.ols(formula='sales~TV+radio+newspaper',data=data).fit()"
   ]
  },
  {
   "cell_type": "code",
   "execution_count": 50,
   "metadata": {},
   "outputs": [
    {
     "data": {
      "text/plain": [
       "Intercept    1.267295e-17\n",
       "TV           1.509960e-81\n",
       "radio        1.505339e-54\n",
       "newspaper    8.599151e-01\n",
       "dtype: float64"
      ]
     },
     "execution_count": 50,
     "metadata": {},
     "output_type": "execute_result"
    }
   ],
   "source": [
    "lm.pvalues"
   ]
  },
  {
   "cell_type": "markdown",
   "metadata": {},
   "source": [
    "Here TV,radio rejects to accept the null hypothesis as its p_valus is less that 0.05 while newspaper accepts the null hypothesis as its pvalues is greter than than 0.05"
   ]
  },
  {
   "cell_type": "code",
   "execution_count": 51,
   "metadata": {},
   "outputs": [
    {
     "data": {
      "text/html": [
       "<table class=\"simpletable\">\n",
       "<caption>OLS Regression Results</caption>\n",
       "<tr>\n",
       "  <th>Dep. Variable:</th>          <td>sales</td>      <th>  R-squared:         </th> <td>   0.897</td>\n",
       "</tr>\n",
       "<tr>\n",
       "  <th>Model:</th>                   <td>OLS</td>       <th>  Adj. R-squared:    </th> <td>   0.896</td>\n",
       "</tr>\n",
       "<tr>\n",
       "  <th>Method:</th>             <td>Least Squares</td>  <th>  F-statistic:       </th> <td>   570.3</td>\n",
       "</tr>\n",
       "<tr>\n",
       "  <th>Date:</th>             <td>Tue, 21 Dec 2021</td> <th>  Prob (F-statistic):</th> <td>1.58e-96</td>\n",
       "</tr>\n",
       "<tr>\n",
       "  <th>Time:</th>                 <td>19:49:51</td>     <th>  Log-Likelihood:    </th> <td> -386.18</td>\n",
       "</tr>\n",
       "<tr>\n",
       "  <th>No. Observations:</th>      <td>   200</td>      <th>  AIC:               </th> <td>   780.4</td>\n",
       "</tr>\n",
       "<tr>\n",
       "  <th>Df Residuals:</th>          <td>   196</td>      <th>  BIC:               </th> <td>   793.6</td>\n",
       "</tr>\n",
       "<tr>\n",
       "  <th>Df Model:</th>              <td>     3</td>      <th>                     </th>     <td> </td>   \n",
       "</tr>\n",
       "<tr>\n",
       "  <th>Covariance Type:</th>      <td>nonrobust</td>    <th>                     </th>     <td> </td>   \n",
       "</tr>\n",
       "</table>\n",
       "<table class=\"simpletable\">\n",
       "<tr>\n",
       "      <td></td>         <th>coef</th>     <th>std err</th>      <th>t</th>      <th>P>|t|</th>  <th>[0.025</th>    <th>0.975]</th>  \n",
       "</tr>\n",
       "<tr>\n",
       "  <th>Intercept</th> <td>    2.9389</td> <td>    0.312</td> <td>    9.422</td> <td> 0.000</td> <td>    2.324</td> <td>    3.554</td>\n",
       "</tr>\n",
       "<tr>\n",
       "  <th>TV</th>        <td>    0.0458</td> <td>    0.001</td> <td>   32.809</td> <td> 0.000</td> <td>    0.043</td> <td>    0.049</td>\n",
       "</tr>\n",
       "<tr>\n",
       "  <th>radio</th>     <td>    0.1885</td> <td>    0.009</td> <td>   21.893</td> <td> 0.000</td> <td>    0.172</td> <td>    0.206</td>\n",
       "</tr>\n",
       "<tr>\n",
       "  <th>newspaper</th> <td>   -0.0010</td> <td>    0.006</td> <td>   -0.177</td> <td> 0.860</td> <td>   -0.013</td> <td>    0.011</td>\n",
       "</tr>\n",
       "</table>\n",
       "<table class=\"simpletable\">\n",
       "<tr>\n",
       "  <th>Omnibus:</th>       <td>60.414</td> <th>  Durbin-Watson:     </th> <td>   2.084</td>\n",
       "</tr>\n",
       "<tr>\n",
       "  <th>Prob(Omnibus):</th> <td> 0.000</td> <th>  Jarque-Bera (JB):  </th> <td> 151.241</td>\n",
       "</tr>\n",
       "<tr>\n",
       "  <th>Skew:</th>          <td>-1.327</td> <th>  Prob(JB):          </th> <td>1.44e-33</td>\n",
       "</tr>\n",
       "<tr>\n",
       "  <th>Kurtosis:</th>      <td> 6.332</td> <th>  Cond. No.          </th> <td>    454.</td>\n",
       "</tr>\n",
       "</table><br/><br/>Warnings:<br/>[1] Standard Errors assume that the covariance matrix of the errors is correctly specified."
      ],
      "text/plain": [
       "<class 'statsmodels.iolib.summary.Summary'>\n",
       "\"\"\"\n",
       "                            OLS Regression Results                            \n",
       "==============================================================================\n",
       "Dep. Variable:                  sales   R-squared:                       0.897\n",
       "Model:                            OLS   Adj. R-squared:                  0.896\n",
       "Method:                 Least Squares   F-statistic:                     570.3\n",
       "Date:                Tue, 21 Dec 2021   Prob (F-statistic):           1.58e-96\n",
       "Time:                        19:49:51   Log-Likelihood:                -386.18\n",
       "No. Observations:                 200   AIC:                             780.4\n",
       "Df Residuals:                     196   BIC:                             793.6\n",
       "Df Model:                           3                                         \n",
       "Covariance Type:            nonrobust                                         \n",
       "==============================================================================\n",
       "                 coef    std err          t      P>|t|      [0.025      0.975]\n",
       "------------------------------------------------------------------------------\n",
       "Intercept      2.9389      0.312      9.422      0.000       2.324       3.554\n",
       "TV             0.0458      0.001     32.809      0.000       0.043       0.049\n",
       "radio          0.1885      0.009     21.893      0.000       0.172       0.206\n",
       "newspaper     -0.0010      0.006     -0.177      0.860      -0.013       0.011\n",
       "==============================================================================\n",
       "Omnibus:                       60.414   Durbin-Watson:                   2.084\n",
       "Prob(Omnibus):                  0.000   Jarque-Bera (JB):              151.241\n",
       "Skew:                          -1.327   Prob(JB):                     1.44e-33\n",
       "Kurtosis:                       6.332   Cond. No.                         454.\n",
       "==============================================================================\n",
       "\n",
       "Warnings:\n",
       "[1] Standard Errors assume that the covariance matrix of the errors is correctly specified.\n",
       "\"\"\""
      ]
     },
     "execution_count": 51,
     "metadata": {},
     "output_type": "execute_result"
    }
   ],
   "source": [
    "lm.summary()"
   ]
  },
  {
   "cell_type": "markdown",
   "metadata": {},
   "source": [
    "here we an see applying newspaper, radio and TV columns for fetures to predict the sales the adjusted r-squared value is 0.89."
   ]
  },
  {
   "cell_type": "code",
   "execution_count": null,
   "metadata": {},
   "outputs": [],
   "source": []
  },
  {
   "cell_type": "code",
   "execution_count": 52,
   "metadata": {},
   "outputs": [],
   "source": [
    "import statsmodels.formula.api as smf\n",
    "lm=smf.ols(formula='sales~TV+radio',data=data).fit()"
   ]
  },
  {
   "cell_type": "code",
   "execution_count": 53,
   "metadata": {},
   "outputs": [
    {
     "data": {
      "text/html": [
       "<table class=\"simpletable\">\n",
       "<caption>OLS Regression Results</caption>\n",
       "<tr>\n",
       "  <th>Dep. Variable:</th>          <td>sales</td>      <th>  R-squared:         </th> <td>   0.897</td>\n",
       "</tr>\n",
       "<tr>\n",
       "  <th>Model:</th>                   <td>OLS</td>       <th>  Adj. R-squared:    </th> <td>   0.896</td>\n",
       "</tr>\n",
       "<tr>\n",
       "  <th>Method:</th>             <td>Least Squares</td>  <th>  F-statistic:       </th> <td>   859.6</td>\n",
       "</tr>\n",
       "<tr>\n",
       "  <th>Date:</th>             <td>Tue, 21 Dec 2021</td> <th>  Prob (F-statistic):</th> <td>4.83e-98</td>\n",
       "</tr>\n",
       "<tr>\n",
       "  <th>Time:</th>                 <td>19:49:52</td>     <th>  Log-Likelihood:    </th> <td> -386.20</td>\n",
       "</tr>\n",
       "<tr>\n",
       "  <th>No. Observations:</th>      <td>   200</td>      <th>  AIC:               </th> <td>   778.4</td>\n",
       "</tr>\n",
       "<tr>\n",
       "  <th>Df Residuals:</th>          <td>   197</td>      <th>  BIC:               </th> <td>   788.3</td>\n",
       "</tr>\n",
       "<tr>\n",
       "  <th>Df Model:</th>              <td>     2</td>      <th>                     </th>     <td> </td>   \n",
       "</tr>\n",
       "<tr>\n",
       "  <th>Covariance Type:</th>      <td>nonrobust</td>    <th>                     </th>     <td> </td>   \n",
       "</tr>\n",
       "</table>\n",
       "<table class=\"simpletable\">\n",
       "<tr>\n",
       "      <td></td>         <th>coef</th>     <th>std err</th>      <th>t</th>      <th>P>|t|</th>  <th>[0.025</th>    <th>0.975]</th>  \n",
       "</tr>\n",
       "<tr>\n",
       "  <th>Intercept</th> <td>    2.9211</td> <td>    0.294</td> <td>    9.919</td> <td> 0.000</td> <td>    2.340</td> <td>    3.502</td>\n",
       "</tr>\n",
       "<tr>\n",
       "  <th>TV</th>        <td>    0.0458</td> <td>    0.001</td> <td>   32.909</td> <td> 0.000</td> <td>    0.043</td> <td>    0.048</td>\n",
       "</tr>\n",
       "<tr>\n",
       "  <th>radio</th>     <td>    0.1880</td> <td>    0.008</td> <td>   23.382</td> <td> 0.000</td> <td>    0.172</td> <td>    0.204</td>\n",
       "</tr>\n",
       "</table>\n",
       "<table class=\"simpletable\">\n",
       "<tr>\n",
       "  <th>Omnibus:</th>       <td>60.022</td> <th>  Durbin-Watson:     </th> <td>   2.081</td>\n",
       "</tr>\n",
       "<tr>\n",
       "  <th>Prob(Omnibus):</th> <td> 0.000</td> <th>  Jarque-Bera (JB):  </th> <td> 148.679</td>\n",
       "</tr>\n",
       "<tr>\n",
       "  <th>Skew:</th>          <td>-1.323</td> <th>  Prob(JB):          </th> <td>5.19e-33</td>\n",
       "</tr>\n",
       "<tr>\n",
       "  <th>Kurtosis:</th>      <td> 6.292</td> <th>  Cond. No.          </th> <td>    425.</td>\n",
       "</tr>\n",
       "</table><br/><br/>Warnings:<br/>[1] Standard Errors assume that the covariance matrix of the errors is correctly specified."
      ],
      "text/plain": [
       "<class 'statsmodels.iolib.summary.Summary'>\n",
       "\"\"\"\n",
       "                            OLS Regression Results                            \n",
       "==============================================================================\n",
       "Dep. Variable:                  sales   R-squared:                       0.897\n",
       "Model:                            OLS   Adj. R-squared:                  0.896\n",
       "Method:                 Least Squares   F-statistic:                     859.6\n",
       "Date:                Tue, 21 Dec 2021   Prob (F-statistic):           4.83e-98\n",
       "Time:                        19:49:52   Log-Likelihood:                -386.20\n",
       "No. Observations:                 200   AIC:                             778.4\n",
       "Df Residuals:                     197   BIC:                             788.3\n",
       "Df Model:                           2                                         \n",
       "Covariance Type:            nonrobust                                         \n",
       "==============================================================================\n",
       "                 coef    std err          t      P>|t|      [0.025      0.975]\n",
       "------------------------------------------------------------------------------\n",
       "Intercept      2.9211      0.294      9.919      0.000       2.340       3.502\n",
       "TV             0.0458      0.001     32.909      0.000       0.043       0.048\n",
       "radio          0.1880      0.008     23.382      0.000       0.172       0.204\n",
       "==============================================================================\n",
       "Omnibus:                       60.022   Durbin-Watson:                   2.081\n",
       "Prob(Omnibus):                  0.000   Jarque-Bera (JB):              148.679\n",
       "Skew:                          -1.323   Prob(JB):                     5.19e-33\n",
       "Kurtosis:                       6.292   Cond. No.                         425.\n",
       "==============================================================================\n",
       "\n",
       "Warnings:\n",
       "[1] Standard Errors assume that the covariance matrix of the errors is correctly specified.\n",
       "\"\"\""
      ]
     },
     "execution_count": 53,
     "metadata": {},
     "output_type": "execute_result"
    }
   ],
   "source": [
    "lm.summary()"
   ]
  },
  {
   "cell_type": "markdown",
   "metadata": {},
   "source": [
    "here we see after removing the newspaper column it again gives us 0.89 value of adjusted R-squared."
   ]
  },
  {
   "cell_type": "markdown",
   "metadata": {},
   "source": [
    "#### Conclusion of EDA \n",
    "\n",
    "Here we conclde that the column:\n",
    "\n",
    "    Unnamed:0 -> it is nominal variable that contributing 5% to predict. so, its better to remove this column from features.\n",
    "    \n",
    "    TV:---> It is continous variable that contributing 78%  for the prediction of sale. And its p_value is less than 0.05 so it can be used as feature.\n",
    "    \n",
    "    radio:---> It is continous variable that contributing 58%  for the prediction of sale. And its p_value is less than 0.05 so it can be used as feature.\n",
    "    \n",
    "    newspaper:--->It is continous variable that contributing 23%  for the prediction of sale. But its p_value is more than 0.05 so it cannot be used as feature.\n",
    "    \n"
   ]
  },
  {
   "cell_type": "markdown",
   "metadata": {},
   "source": [
    "## Data Cleaning"
   ]
  },
  {
   "cell_type": "code",
   "execution_count": 54,
   "metadata": {},
   "outputs": [],
   "source": [
    "data.drop_duplicates(inplace=True)"
   ]
  },
  {
   "cell_type": "markdown",
   "metadata": {},
   "source": [
    "removing duplicates"
   ]
  },
  {
   "cell_type": "code",
   "execution_count": 55,
   "metadata": {},
   "outputs": [],
   "source": [
    "data.drop(columns=[\"Unnamed: 0\",\"newspaper\"],axis=1,inplace=True)\n"
   ]
  },
  {
   "cell_type": "markdown",
   "metadata": {},
   "source": [
    "removed columns \"Unnamed:0\", \"newspaper\""
   ]
  },
  {
   "cell_type": "code",
   "execution_count": 56,
   "metadata": {},
   "outputs": [
    {
     "data": {
      "text/plain": [
       "(200, 3)"
      ]
     },
     "execution_count": 56,
     "metadata": {},
     "output_type": "execute_result"
    }
   ],
   "source": [
    "data.shape"
   ]
  },
  {
   "cell_type": "code",
   "execution_count": 57,
   "metadata": {},
   "outputs": [
    {
     "data": {
      "image/png": "[encoded data removed]",
      "text/plain": [
       "<Figure size 1152x576 with 2 Axes>"
      ]
     },
     "metadata": {
      "needs_background": "light"
     },
     "output_type": "display_data"
    }
   ],
   "source": [
    "fig,axs=plt.subplots(1,2 )\n",
    "data['TV'].plot(kind='hist',ax=axs[0],figsize=(16,8))\n",
    "data[\"radio\"].plot(kind='hist',ax=axs[1])\n",
    "plt.show()"
   ]
  },
  {
   "cell_type": "markdown",
   "metadata": {},
   "source": [
    "TV,radio are distributed normally and not skewed."
   ]
  },
  {
   "cell_type": "code",
   "execution_count": 58,
   "metadata": {},
   "outputs": [
    {
     "data": {
      "text/plain": [
       "TV      -0.069853\n",
       "radio    0.094175\n",
       "sales    0.407571\n",
       "dtype: float64"
      ]
     },
     "execution_count": 58,
     "metadata": {},
     "output_type": "execute_result"
    }
   ],
   "source": [
    "data.skew()"
   ]
  },
  {
   "cell_type": "markdown",
   "metadata": {},
   "source": [
    "all columns are in range -0.5 to 0.5 thats mean no column is skewed."
   ]
  },
  {
   "cell_type": "code",
   "execution_count": 59,
   "metadata": {},
   "outputs": [
    {
     "data": {
      "image/png": "[encoded data removed]",
      "text/plain": [
       "<Figure size 1440x6336 with 3 Axes>"
      ]
     },
     "metadata": {
      "needs_background": "light"
     },
     "output_type": "display_data"
    }
   ],
   "source": [
    "collist=data.columns.values\n",
    "plt.figure(figsize=(20,88))\n",
    "for i in range(0,len(collist)):\n",
    "    plt.subplot(20,5,i+1)\n",
    "    sns.boxplot(data[collist[i]],orient='v',color='green')\n",
    "    plt.tight_layout()"
   ]
  },
  {
   "cell_type": "markdown",
   "metadata": {},
   "source": [
    "there are no outliers in the data"
   ]
  },
  {
   "cell_type": "code",
   "execution_count": 60,
   "metadata": {},
   "outputs": [
    {
     "data": {
      "text/plain": [
       "(200, 3)"
      ]
     },
     "execution_count": 60,
     "metadata": {},
     "output_type": "execute_result"
    }
   ],
   "source": [
    "data.shape"
   ]
  },
  {
   "cell_type": "code",
   "execution_count": 61,
   "metadata": {},
   "outputs": [
    {
     "data": {
      "text/plain": [
       "0.0"
      ]
     },
     "execution_count": 61,
     "metadata": {},
     "output_type": "execute_result"
    }
   ],
   "source": [
    "data_loss=(200-200)/200\n",
    "data_loss"
   ]
  },
  {
   "cell_type": "markdown",
   "metadata": {},
   "source": [
    "our data is not lost before cleaning And after cleaning there are 200 records. So, data lost is 0.0%"
   ]
  },
  {
   "cell_type": "code",
   "execution_count": 62,
   "metadata": {},
   "outputs": [
    {
     "data": {
      "text/html": [
       "<div>\n",
       "<style scoped>\n",
       "    .dataframe tbody tr th:only-of-type {\n",
       "        vertical-align: middle;\n",
       "    }\n",
       "\n",
       "    .dataframe tbody tr th {\n",
       "        vertical-align: top;\n",
       "    }\n",
       "\n",
       "    .dataframe thead th {\n",
       "        text-align: right;\n",
       "    }\n",
       "</style>\n",
       "<table border=\"1\" class=\"dataframe\">\n",
       "  <thead>\n",
       "    <tr style=\"text-align: right;\">\n",
       "      <th></th>\n",
       "      <th>TV</th>\n",
       "      <th>radio</th>\n",
       "      <th>sales</th>\n",
       "    </tr>\n",
       "  </thead>\n",
       "  <tbody>\n",
       "    <tr>\n",
       "      <th>count</th>\n",
       "      <td>200.000000</td>\n",
       "      <td>200.000000</td>\n",
       "      <td>200.000000</td>\n",
       "    </tr>\n",
       "    <tr>\n",
       "      <th>mean</th>\n",
       "      <td>147.042500</td>\n",
       "      <td>23.264000</td>\n",
       "      <td>14.022500</td>\n",
       "    </tr>\n",
       "    <tr>\n",
       "      <th>std</th>\n",
       "      <td>85.854236</td>\n",
       "      <td>14.846809</td>\n",
       "      <td>5.217457</td>\n",
       "    </tr>\n",
       "    <tr>\n",
       "      <th>min</th>\n",
       "      <td>0.700000</td>\n",
       "      <td>0.000000</td>\n",
       "      <td>1.600000</td>\n",
       "    </tr>\n",
       "    <tr>\n",
       "      <th>25%</th>\n",
       "      <td>74.375000</td>\n",
       "      <td>9.975000</td>\n",
       "      <td>10.375000</td>\n",
       "    </tr>\n",
       "    <tr>\n",
       "      <th>50%</th>\n",
       "      <td>149.750000</td>\n",
       "      <td>22.900000</td>\n",
       "      <td>12.900000</td>\n",
       "    </tr>\n",
       "    <tr>\n",
       "      <th>75%</th>\n",
       "      <td>218.825000</td>\n",
       "      <td>36.525000</td>\n",
       "      <td>17.400000</td>\n",
       "    </tr>\n",
       "    <tr>\n",
       "      <th>max</th>\n",
       "      <td>296.400000</td>\n",
       "      <td>49.600000</td>\n",
       "      <td>27.000000</td>\n",
       "    </tr>\n",
       "  </tbody>\n",
       "</table>\n",
       "</div>"
      ],
      "text/plain": [
       "               TV       radio       sales\n",
       "count  200.000000  200.000000  200.000000\n",
       "mean   147.042500   23.264000   14.022500\n",
       "std     85.854236   14.846809    5.217457\n",
       "min      0.700000    0.000000    1.600000\n",
       "25%     74.375000    9.975000   10.375000\n",
       "50%    149.750000   22.900000   12.900000\n",
       "75%    218.825000   36.525000   17.400000\n",
       "max    296.400000   49.600000   27.000000"
      ]
     },
     "execution_count": 62,
     "metadata": {},
     "output_type": "execute_result"
    }
   ],
   "source": [
    "data.describe()"
   ]
  },
  {
   "cell_type": "markdown",
   "metadata": {},
   "source": [
    "Here we can see that the TV has min value i.e. 0.7 and radio has min value i.e. 0.0 that can be quite possible. Sometimes the producer is not spending much money on advertisement and also got the benefits."
   ]
  },
  {
   "cell_type": "markdown",
   "metadata": {},
   "source": [
    "## Model Deployment"
   ]
  },
  {
   "cell_type": "code",
   "execution_count": 63,
   "metadata": {},
   "outputs": [],
   "source": [
    "X=data[[\"TV\",\"radio\"]]\n",
    "Y=data.sales"
   ]
  },
  {
   "cell_type": "markdown",
   "metadata": {},
   "source": [
    "splitting data into fetures & labels.\n",
    "\n",
    "Here X is our features & Y is our label."
   ]
  },
  {
   "cell_type": "code",
   "execution_count": 64,
   "metadata": {},
   "outputs": [],
   "source": [
    "mms=MinMaxScaler()\n",
    "X_scaled=mms.fit_transform(X)"
   ]
  },
  {
   "cell_type": "markdown",
   "metadata": {},
   "source": [
    "Standarized the features using MinMaxScalar technique"
   ]
  },
  {
   "cell_type": "code",
   "execution_count": 65,
   "metadata": {},
   "outputs": [
    {
     "name": "stdout",
     "output_type": "stream",
     "text": [
      "The highest accuracy is 95.22328786133319 at random state 92\n"
     ]
    }
   ],
   "source": [
    "max_accuracy=0\n",
    "for i in range(1,150):\n",
    "    X_train,X_test,Y_train,Y_test=train_test_split(X_scaled,Y,test_size=0.2,random_state=i)\n",
    "    lr=LinearRegression()\n",
    "    lr.fit(X_train,Y_train)\n",
    "    Y_pred=lr.predict(X_test)\n",
    "    accuracy=r2_score(Y_test,Y_pred)*100\n",
    "    if accuracy>max_accuracy:\n",
    "        max_accuracy=accuracy\n",
    "        rs=i\n",
    "print(f\"The highest accuracy is {max_accuracy} at random state {rs}\")\n",
    "    \n",
    "    "
   ]
  },
  {
   "cell_type": "code",
   "execution_count": 66,
   "metadata": {},
   "outputs": [],
   "source": [
    "X_train,X_test,Y_train,Y_test=train_test_split(X_scaled,Y,test_size=0.2,random_state=rs)"
   ]
  },
  {
   "cell_type": "markdown",
   "metadata": {},
   "source": [
    "Here we split the training dataset & test dataset at random state rs i.e. 92 where we get the high accuracy"
   ]
  },
  {
   "cell_type": "code",
   "execution_count": 67,
   "metadata": {},
   "outputs": [],
   "source": [
    "Linear=LinearRegression()\n",
    "DecisionTree=DecisionTreeRegressor()\n",
    "knn=KNeighborsRegressor()\n",
    "RandomForest=RandomForestRegressor()\n",
    "AdaBoost=AdaBoostRegressor()"
   ]
  },
  {
   "cell_type": "code",
   "execution_count": 68,
   "metadata": {
    "scrolled": true
   },
   "outputs": [
    {
     "name": "stdout",
     "output_type": "stream",
     "text": [
      "------------------------------------------------------------\n",
      "The model LinearRegression() has:: \n",
      "\t Accuracy :: 95.2% \n",
      "\t Mean Absolute Error is :: 0.9316575153742803 \n",
      "\t Mean Squared Error is :: 1.475346954384468 \n",
      "\t Root Mean Squared Error is :: 1.2146386106099492\n",
      "------------------------------------------------------------\n",
      "\n",
      "\n",
      "------------------------------------------------------------\n",
      "The model DecisionTreeRegressor() has:: \n",
      "\t Accuracy :: 96.9% \n",
      "\t Mean Absolute Error is :: 0.7525000000000001 \n",
      "\t Mean Squared Error is :: 0.9727500000000001 \n",
      "\t Root Mean Squared Error is :: 0.9862808930522785\n",
      "------------------------------------------------------------\n",
      "\n",
      "\n",
      "------------------------------------------------------------\n",
      "The model RandomForestRegressor() has:: \n",
      "\t Accuracy :: 98.7% \n",
      "\t Mean Absolute Error is :: 0.4877499999999973 \n",
      "\t Mean Squared Error is :: 0.40964444999999605 \n",
      "\t Root Mean Squared Error is :: 0.640034725620412\n",
      "------------------------------------------------------------\n",
      "\n",
      "\n",
      "------------------------------------------------------------\n",
      "The model KNeighborsRegressor() has:: \n",
      "\t Accuracy :: 98.5% \n",
      "\t Mean Absolute Error is :: 0.4960000000000003 \n",
      "\t Mean Squared Error is :: 0.47246000000000016 \n",
      "\t Root Mean Squared Error is :: 0.6873572579088695\n",
      "------------------------------------------------------------\n",
      "\n",
      "\n",
      "------------------------------------------------------------\n",
      "The model AdaBoostRegressor() has:: \n",
      "\t Accuracy :: 95.7% \n",
      "\t Mean Absolute Error is :: 0.892622974398618 \n",
      "\t Mean Squared Error is :: 1.328646069127593 \n",
      "\t Root Mean Squared Error is :: 1.1526691065208579\n",
      "------------------------------------------------------------\n",
      "\n",
      "\n"
     ]
    }
   ],
   "source": [
    "algo=[Linear,DecisionTree,RandomForest,knn,AdaBoost]\n",
    "acc_models={}\n",
    "for model in algo:\n",
    "    model.fit(X_train,Y_train)\n",
    "    Y_pred=model.predict(X_test)\n",
    "    print(\"-\"*60)\n",
    "    acc_models[model]=round(r2_score(Y_test,Y_pred)*100,1)\n",
    "    print(f\"The model {model} has:: \\n\\t Accuracy :: {round(r2_score(Y_test,Y_pred)*100,1)}% \\n\\t Mean Absolute Error is :: {mean_absolute_error(Y_test,Y_pred)} \\n\\t Mean Squared Error is :: {mean_squared_error(Y_test,Y_pred)} \\n\\t Root Mean Squared Error is :: {np.sqrt(mean_squared_error(Y_test,Y_pred))}\")\n",
    "    print(\"-\"*60)\n",
    "    print(\"\\n\")"
   ]
  },
  {
   "cell_type": "code",
   "execution_count": 69,
   "metadata": {},
   "outputs": [
    {
     "data": {
      "text/plain": [
       "{LinearRegression(): 95.2,\n",
       " DecisionTreeRegressor(): 96.9,\n",
       " RandomForestRegressor(): 98.7,\n",
       " KNeighborsRegressor(): 98.5,\n",
       " AdaBoostRegressor(): 95.7}"
      ]
     },
     "execution_count": 69,
     "metadata": {},
     "output_type": "execute_result"
    }
   ],
   "source": [
    "acc_models"
   ]
  },
  {
   "cell_type": "markdown",
   "metadata": {},
   "source": [
    "here we get the maximum r2-score of each model"
   ]
  },
  {
   "cell_type": "markdown",
   "metadata": {},
   "source": [
    "### Crooss-Vaidation of the model"
   ]
  },
  {
   "cell_type": "code",
   "execution_count": 70,
   "metadata": {},
   "outputs": [
    {
     "name": "stdout",
     "output_type": "stream",
     "text": [
      "\n",
      "LinearRegression()\n",
      "-------------------------\n",
      "\n",
      "\n",
      "Mean CV Score of model LinearRegression():: 0.8942166468026784 at k-fold::2\n",
      "\n",
      "Mean CV Score of model LinearRegression():: 0.8931635501481656 at k-fold::3\n",
      "\n",
      "Mean CV Score of model LinearRegression():: 0.8916530235661282 at k-fold::4\n",
      "\n",
      "Mean CV Score of model LinearRegression():: 0.889282957306453 at k-fold::5\n",
      "\n",
      "Mean CV Score of model LinearRegression():: 0.8910268337384196 at k-fold::6\n",
      "\n",
      "Mean CV Score of model LinearRegression():: 0.887824825599243 at k-fold::7\n",
      "\n",
      "Mean CV Score of model LinearRegression():: 0.8845638944511245 at k-fold::8\n",
      "\n",
      "Mean CV Score of model LinearRegression():: 0.8839789119628066 at k-fold::9\n",
      "\n",
      "\n",
      "DecisionTreeRegressor()\n",
      "-------------------------\n",
      "\n",
      "\n",
      "Mean CV Score of model DecisionTreeRegressor():: 0.9424793116135215 at k-fold::2\n",
      "\n",
      "Mean CV Score of model DecisionTreeRegressor():: 0.9617316240761166 at k-fold::3\n",
      "\n",
      "Mean CV Score of model DecisionTreeRegressor():: 0.9572216210329749 at k-fold::4\n",
      "\n",
      "Mean CV Score of model DecisionTreeRegressor():: 0.9579503176267592 at k-fold::5\n",
      "\n",
      "Mean CV Score of model DecisionTreeRegressor():: 0.9547684726449481 at k-fold::6\n",
      "\n",
      "Mean CV Score of model DecisionTreeRegressor():: 0.9626861346606336 at k-fold::7\n",
      "\n",
      "Mean CV Score of model DecisionTreeRegressor():: 0.9576460740715779 at k-fold::8\n",
      "\n",
      "Mean CV Score of model DecisionTreeRegressor():: 0.9554314561500432 at k-fold::9\n",
      "\n",
      "\n",
      "RandomForestRegressor()\n",
      "-------------------------\n",
      "\n",
      "\n",
      "Mean CV Score of model RandomForestRegressor():: 0.9747768781723366 at k-fold::2\n",
      "\n",
      "Mean CV Score of model RandomForestRegressor():: 0.9791705250601787 at k-fold::3\n",
      "\n",
      "Mean CV Score of model RandomForestRegressor():: 0.9814893009094477 at k-fold::4\n",
      "\n",
      "Mean CV Score of model RandomForestRegressor():: 0.9774021544288306 at k-fold::5\n",
      "\n",
      "Mean CV Score of model RandomForestRegressor():: 0.9803014629402803 at k-fold::6\n",
      "\n",
      "Mean CV Score of model RandomForestRegressor():: 0.9801054751104118 at k-fold::7\n",
      "\n",
      "Mean CV Score of model RandomForestRegressor():: 0.9808117304713806 at k-fold::8\n",
      "\n",
      "Mean CV Score of model RandomForestRegressor():: 0.9799945614091227 at k-fold::9\n",
      "\n",
      "\n",
      "KNeighborsRegressor()\n",
      "-------------------------\n",
      "\n",
      "\n",
      "Mean CV Score of model KNeighborsRegressor():: 0.9573291175806596 at k-fold::2\n",
      "\n",
      "Mean CV Score of model KNeighborsRegressor():: 0.9647280142370276 at k-fold::3\n",
      "\n",
      "Mean CV Score of model KNeighborsRegressor():: 0.9678587622108249 at k-fold::4\n",
      "\n",
      "Mean CV Score of model KNeighborsRegressor():: 0.9664569127526399 at k-fold::5\n",
      "\n",
      "Mean CV Score of model KNeighborsRegressor():: 0.9692949627474031 at k-fold::6\n",
      "\n",
      "Mean CV Score of model KNeighborsRegressor():: 0.9708037342782869 at k-fold::7\n",
      "\n",
      "Mean CV Score of model KNeighborsRegressor():: 0.9703811209701304 at k-fold::8\n",
      "\n",
      "Mean CV Score of model KNeighborsRegressor():: 0.96932132551508 at k-fold::9\n",
      "\n",
      "\n",
      "AdaBoostRegressor()\n",
      "-------------------------\n",
      "\n",
      "\n",
      "Mean CV Score of model AdaBoostRegressor():: 0.9509172994830183 at k-fold::2\n",
      "\n",
      "Mean CV Score of model AdaBoostRegressor():: 0.9544249922959352 at k-fold::3\n",
      "\n",
      "Mean CV Score of model AdaBoostRegressor():: 0.9594958434008888 at k-fold::4\n",
      "\n",
      "Mean CV Score of model AdaBoostRegressor():: 0.9527406567809248 at k-fold::5\n",
      "\n",
      "Mean CV Score of model AdaBoostRegressor():: 0.9575717197441597 at k-fold::6\n",
      "\n",
      "Mean CV Score of model AdaBoostRegressor():: 0.9549998735777997 at k-fold::7\n",
      "\n",
      "Mean CV Score of model AdaBoostRegressor():: 0.9565089047468388 at k-fold::8\n",
      "\n",
      "Mean CV Score of model AdaBoostRegressor():: 0.9534670806973846 at k-fold::9\n",
      "\n"
     ]
    }
   ],
   "source": [
    "CVmodel={}\n",
    "\n",
    "for model in algo:\n",
    "    CVscore_={}\n",
    "    print(f\"\\n{model}\")\n",
    "    print(\"-\"*25)\n",
    "    print(\"\\n\")\n",
    "    for i in range(2,10):\n",
    "        cvS=cross_val_score(model,X_scaled,Y,cv=i)\n",
    "        CVscore_[i]=cvS.mean()\n",
    "        print(f\"Mean CV Score of model {model}:: {cvS.mean()} at k-fold::{i}\\n\")\n",
    "    CVdata=pd.DataFrame(CVscore_,index=[\"\"])\n",
    "    CVmodel[str(model)]=CVdata.max(axis=1).tolist()"
   ]
  },
  {
   "cell_type": "code",
   "execution_count": 71,
   "metadata": {},
   "outputs": [
    {
     "data": {
      "text/plain": [
       "{'LinearRegression()': [0.8942166468026784],\n",
       " 'DecisionTreeRegressor()': [0.9626861346606336],\n",
       " 'RandomForestRegressor()': [0.9814893009094477],\n",
       " 'KNeighborsRegressor()': [0.9708037342782869],\n",
       " 'AdaBoostRegressor()': [0.9594958434008888]}"
      ]
     },
     "execution_count": 71,
     "metadata": {},
     "output_type": "execute_result"
    }
   ],
   "source": [
    "CVmodel"
   ]
  },
  {
   "cell_type": "markdown",
   "metadata": {},
   "source": [
    "here we can see the maximun CV score of each model"
   ]
  },
  {
   "cell_type": "code",
   "execution_count": 73,
   "metadata": {},
   "outputs": [
    {
     "name": "stdout",
     "output_type": "stream",
     "text": [
      "The least difference between the r2-score and CV score of each model is::\n",
      "\n",
      "LinearRegression()::5.78\n",
      "DecisionTreeRegressor()::0.63\n",
      "RandomForestRegressor()::0.55\n",
      "KNeighborsRegressor()::1.42\n",
      "AdaBoostRegressor()::0.25\n"
     ]
    }
   ],
   "source": [
    "acc_value=list(acc_models.values ( ))\n",
    "\n",
    "m=list(CVmodel.keys())\n",
    "\n",
    "print(\"The least difference between the r2-score and CV score of each model is::\\n\")\n",
    "for i in range(5):\n",
    "    print(f\"{m[i]}::{round(np.abs(CVmodel[m[i]][0]*100-acc_value[i]),2)}\")"
   ]
  },
  {
   "cell_type": "markdown",
   "metadata": {},
   "source": [
    "here for model Adaboost Regressor we get the least value i.e. the difference between the r2-score and cvScore of this model is 0.25 . So, AdaBoost is the best model to use for this problem."
   ]
  },
  {
   "cell_type": "markdown",
   "metadata": {},
   "source": [
    "## Plotting regplot graph for Adaboost model"
   ]
  },
  {
   "cell_type": "code",
   "execution_count": 74,
   "metadata": {},
   "outputs": [
    {
     "data": {
      "image/png": "[encoded data removed]",
      "text/plain": [
       "<Figure size 432x288 with 1 Axes>"
      ]
     },
     "metadata": {
      "needs_background": "light"
     },
     "output_type": "display_data"
    }
   ],
   "source": [
    "ada=AdaBoostRegressor()\n",
    "ada.fit(X_train,Y_train)\n",
    "Y_pred=ada.predict(X_test)\n",
    "sns.regplot(Y_test,Y_pred)\n",
    "plt.xlabel(\"Actual Test Data\")\n",
    "plt.ylabel(\"Predicted Data\")\n",
    "plt.tight_layout()"
   ]
  },
  {
   "cell_type": "markdown",
   "metadata": {},
   "source": [
    "Here we analyse that the data points are very close to the best fit line. That means the residual is less."
   ]
  },
  {
   "cell_type": "markdown",
   "metadata": {},
   "source": [
    "## Regularization"
   ]
  },
  {
   "cell_type": "code",
   "execution_count": 75,
   "metadata": {},
   "outputs": [],
   "source": [
    "import warnings\n",
    "warnings.filterwarnings(\"ignore\")"
   ]
  },
  {
   "cell_type": "code",
   "execution_count": 76,
   "metadata": {},
   "outputs": [
    {
     "data": {
      "text/plain": [
       "{'alpha': 0.0001, 'max_iter': 1000, 'normalize': False}"
      ]
     },
     "execution_count": 76,
     "metadata": {},
     "output_type": "execute_result"
    }
   ],
   "source": [
    "lasso=Lasso()\n",
    "parameters={\"alpha\":np.arange(0.0001,0.1,0.001),'normalize':[True,False],'max_iter':[1000,1500,2000]}\n",
    "grid=GridSearchCV(lasso,parameters)\n",
    "grid.fit(X_train,Y_train)\n",
    "grid.best_params_"
   ]
  },
  {
   "cell_type": "markdown",
   "metadata": {},
   "source": [
    "Here we get the best paameter for Lasso. So, that we can see our model is overfitted/underfitted or not."
   ]
  },
  {
   "cell_type": "code",
   "execution_count": 77,
   "metadata": {},
   "outputs": [
    {
     "data": {
      "text/plain": [
       "95.22294345777537"
      ]
     },
     "execution_count": 77,
     "metadata": {},
     "output_type": "execute_result"
    }
   ],
   "source": [
    "lasso=Lasso(alpha= 0.0001, max_iter= 1000, normalize=False)\n",
    "lasso.fit(X_train,Y_train)\n",
    "pred=lasso.predict(X_test)\n",
    "r2_score(Y_test,pred)*100"
   ]
  },
  {
   "cell_type": "markdown",
   "metadata": {},
   "source": [
    "Here we can see that our model is not overfitted or underfitted as the r2 scoe Lasso model i.e. 95.22 is less or almost similiar with AdaBosst regressor model r2_score that is 95.7."
   ]
  },
  {
   "cell_type": "markdown",
   "metadata": {},
   "source": [
    "## Hyper parameter Tuning"
   ]
  },
  {
   "cell_type": "code",
   "execution_count": 78,
   "metadata": {},
   "outputs": [],
   "source": [
    "params={\"base_estimator\":[Linear,DecisionTree,RandomForest],\"n_estimators\":[43,45,47],'learning_rate':[1.1,1.2,1.3],\"loss\":['linear','square','exponential']}"
   ]
  },
  {
   "cell_type": "code",
   "execution_count": 79,
   "metadata": {},
   "outputs": [
    {
     "data": {
      "text/plain": [
       "GridSearchCV(estimator=AdaBoostRegressor(),\n",
       "             param_grid={'base_estimator': [LinearRegression(),\n",
       "                                            DecisionTreeRegressor(),\n",
       "                                            RandomForestRegressor()],\n",
       "                         'learning_rate': [1.1, 1.2, 1.3],\n",
       "                         'loss': ['linear', 'square', 'exponential'],\n",
       "                         'n_estimators': [43, 45, 47]})"
      ]
     },
     "execution_count": 79,
     "metadata": {},
     "output_type": "execute_result"
    }
   ],
   "source": [
    "grid=GridSearchCV(ada,param_grid=params)\n",
    "grid.fit(X_train,Y_train)"
   ]
  },
  {
   "cell_type": "code",
   "execution_count": 80,
   "metadata": {},
   "outputs": [
    {
     "data": {
      "text/plain": [
       "AdaBoostRegressor(base_estimator=RandomForestRegressor(), learning_rate=1.3,\n",
       "                  loss='exponential', n_estimators=47)"
      ]
     },
     "execution_count": 80,
     "metadata": {},
     "output_type": "execute_result"
    }
   ],
   "source": [
    "grid.best_estimator_"
   ]
  },
  {
   "cell_type": "code",
   "execution_count": 83,
   "metadata": {},
   "outputs": [],
   "source": [
    "ada=AdaBoostRegressor(base_estimator=RandomForestRegressor(), learning_rate=1.3, n_estimators=47)\n",
    "ada.fit(X_train,Y_train)\n",
    "Y_pred=ada.predict(X_test)"
   ]
  },
  {
   "cell_type": "markdown",
   "metadata": {},
   "source": [
    "## Model evaluation"
   ]
  },
  {
   "cell_type": "code",
   "execution_count": 85,
   "metadata": {},
   "outputs": [
    {
     "name": "stdout",
     "output_type": "stream",
     "text": [
      "The model AdaBoost Regressor has:: \n",
      "\t Accuracy :: 98.9% \n",
      "\t Mean Absolute Error is :: 0.43762500000000026 \n",
      "\t Mean Squared Error is :: 0.33584892499999813 \n",
      "\t Root Mean Squared Error is :: 0.5795247406280409\n"
     ]
    }
   ],
   "source": [
    "print(f\"The model AdaBoost Regressor has:: \\n\\t Accuracy :: {round(r2_score(Y_test,Y_pred)*100,1)}% \\n\\t Mean Absolute Error is :: {mean_absolute_error(Y_test,Y_pred)} \\n\\t Mean Squared Error is :: {mean_squared_error(Y_test,Y_pred)} \\n\\t Root Mean Squared Error is :: {np.sqrt(mean_squared_error(Y_test,Y_pred))}\")\n"
   ]
  },
  {
   "cell_type": "markdown",
   "metadata": {},
   "source": [
    "Here we can see that our accuracy has increased & The mean_absolute Error ,Mean_sqaured_error, Root_mean_sqaured_error has decreased."
   ]
  },
  {
   "cell_type": "code",
   "execution_count": 86,
   "metadata": {},
   "outputs": [
    {
     "data": {
      "image/png": "[encoded data removed]",
      "text/plain": [
       "<Figure size 432x288 with 1 Axes>"
      ]
     },
     "metadata": {
      "needs_background": "light"
     },
     "output_type": "display_data"
    }
   ],
   "source": [
    "sns.regplot(Y_test,Y_pred)\n",
    "plt.xlabel(\"Actual Test Data\")\n",
    "plt.ylabel(\"Predicted Data\")\n",
    "plt.tight_layout()"
   ]
  },
  {
   "cell_type": "markdown",
   "metadata": {},
   "source": [
    "Here we can see that the points are now much closer than the earlier adaboost model with default parameter to the best fit line, Its due to decrease in mean absolute error, mean Squared Error,& Root mean squared error."
   ]
  },
  {
   "cell_type": "markdown",
   "metadata": {},
   "source": [
    "## Saving model"
   ]
  },
  {
   "cell_type": "code",
   "execution_count": 88,
   "metadata": {},
   "outputs": [
    {
     "data": {
      "text/plain": [
       "['Advertisement_model.obj']"
      ]
     },
     "execution_count": 88,
     "metadata": {},
     "output_type": "execute_result"
    }
   ],
   "source": [
    "import joblib\n",
    "joblib.dump(ada,'Advertisement_model.obj')"
   ]
  },
  {
   "cell_type": "code",
   "execution_count": null,
   "metadata": {},
   "outputs": [],
   "source": []
  }
 ],
 "metadata": {
  "kernelspec": {
   "display_name": "Python 3",
   "language": "python",
   "name": "python3"
  },
  "language_info": {
   "codemirror_mode": {
    "name": "ipython",
    "version": 3
   },
   "file_extension": ".py",
   "mimetype": "text/x-python",
   "name": "python",
   "nbconvert_exporter": "python",
   "pygments_lexer": "ipython3",
   "version": "3.7.3"
  }
 },
 "nbformat": 4,
 "nbformat_minor": 2
}
